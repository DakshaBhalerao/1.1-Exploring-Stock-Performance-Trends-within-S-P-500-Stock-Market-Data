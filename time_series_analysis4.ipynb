{
 "cells": [
  {
   "cell_type": "code",
   "execution_count": 1,
   "id": "76dae054-76dc-4060-a9db-9c9e011711de",
   "metadata": {},
   "outputs": [],
   "source": [
    "import pandas as pd\n",
    "import numpy as np\n",
    "import matplotlib.pyplot as plt\n",
    "import seaborn as sns \n",
    "import plotly.express as px\n",
    "\n",
    "import warnings\n",
    "from warnings import filterwarnings\n",
    "filterwarnings('ignore')"
   ]
  },
  {
   "cell_type": "markdown",
   "id": "51e04f88-fee6-4d9a-962e-429e77d1466c",
   "metadata": {},
   "source": [
    "## perform resampling analysis of closing price"
   ]
  },
  {
   "cell_type": "code",
   "execution_count": 2,
   "id": "dd652be6-a023-4fe2-9531-e1b372391a75",
   "metadata": {},
   "outputs": [],
   "source": [
    "# Apple = pd.read_csv(r'D:\\\\Python\\\\Project2\\\\individual_stocks_5yr\\\\AAPL_data.csv')"
   ]
  },
  {
   "cell_type": "code",
   "execution_count": 3,
   "id": "dae4bf79-07f8-46e4-bd8c-89b92a118e7a",
   "metadata": {},
   "outputs": [],
   "source": [
    "# To resample data make sure that your date variable is your index row "
   ]
  },
  {
   "cell_type": "code",
   "execution_count": 4,
   "id": "9291161b-1642-4ae8-abeb-5efb6eecfb4d",
   "metadata": {},
   "outputs": [],
   "source": [
    "# all_data.columns"
   ]
  },
  {
   "cell_type": "code",
   "execution_count": 5,
   "id": "02d85fa7-120a-426e-b63d-fe294f33f94e",
   "metadata": {},
   "outputs": [],
   "source": [
    "# all_data['Name'].unique()"
   ]
  },
  {
   "cell_type": "code",
   "execution_count": 6,
   "id": "2b1c8840-6ecb-4af5-add1-49af0ce5d9d3",
   "metadata": {},
   "outputs": [],
   "source": [
    "# all_data['Name'].value_counts()"
   ]
  },
  {
   "cell_type": "code",
   "execution_count": 7,
   "id": "02aa6f5e-0ca9-447b-94e2-25a85e7e05e1",
   "metadata": {},
   "outputs": [],
   "source": [
    "# filter3 = all_data['Name'] == 'AAPL'"
   ]
  },
  {
   "cell_type": "code",
   "execution_count": 8,
   "id": "f17d470c-3d14-4130-b668-1cc0df9be64b",
   "metadata": {},
   "outputs": [],
   "source": [
    "# df = all_data[filter3]"
   ]
  },
  {
   "cell_type": "code",
   "execution_count": 9,
   "id": "aeaef600-20b4-425a-b184-d2c774afae91",
   "metadata": {},
   "outputs": [],
   "source": [
    "# df.set_index('date',inplace=True)"
   ]
  },
  {
   "cell_type": "code",
   "execution_count": 10,
   "id": "f66f0cdd-8513-4cc2-b4be-c865fa6c8298",
   "metadata": {},
   "outputs": [],
   "source": [
    "# df"
   ]
  },
  {
   "cell_type": "code",
   "execution_count": 11,
   "id": "4a45843c-da6d-41fd-8b59-6f81c733a56c",
   "metadata": {},
   "outputs": [],
   "source": [
    "Apple = pd.read_pickle(r'analysis3.pkl')"
   ]
  },
  {
   "cell_type": "code",
   "execution_count": 12,
   "id": "ef44f410-b155-4882-bfc9-c2604dc254b2",
   "metadata": {},
   "outputs": [
    {
     "data": {
      "text/plain": [
       "date                 object\n",
       "open                float64\n",
       "high                float64\n",
       "low                 float64\n",
       "close               float64\n",
       "volume                int64\n",
       "Name                 object\n",
       "Daily return (%)    float64\n",
       "dtype: object"
      ]
     },
     "execution_count": 12,
     "metadata": {},
     "output_type": "execute_result"
    }
   ],
   "source": [
    "Apple.dtypes"
   ]
  },
  {
   "cell_type": "code",
   "execution_count": 13,
   "id": "a95925a8-39e1-4838-bd8f-f0c9058975bd",
   "metadata": {},
   "outputs": [],
   "source": [
    "Apple['date'] = pd.to_datetime(Apple['date'])"
   ]
  },
  {
   "cell_type": "code",
   "execution_count": 14,
   "id": "23a90e42-b016-4b91-a066-f3e43af9c2ef",
   "metadata": {},
   "outputs": [],
   "source": [
    "Apple.set_index('date',inplace = True)"
   ]
  },
  {
   "cell_type": "code",
   "execution_count": 15,
   "id": "a029bb17-9a60-40a0-8d3c-f954a9e8814d",
   "metadata": {},
   "outputs": [
    {
     "data": {
      "text/html": [
       "<div>\n",
       "<style scoped>\n",
       "    .dataframe tbody tr th:only-of-type {\n",
       "        vertical-align: middle;\n",
       "    }\n",
       "\n",
       "    .dataframe tbody tr th {\n",
       "        vertical-align: top;\n",
       "    }\n",
       "\n",
       "    .dataframe thead th {\n",
       "        text-align: right;\n",
       "    }\n",
       "</style>\n",
       "<table border=\"1\" class=\"dataframe\">\n",
       "  <thead>\n",
       "    <tr style=\"text-align: right;\">\n",
       "      <th></th>\n",
       "      <th>open</th>\n",
       "      <th>high</th>\n",
       "      <th>low</th>\n",
       "      <th>close</th>\n",
       "      <th>volume</th>\n",
       "      <th>Name</th>\n",
       "      <th>Daily return (%)</th>\n",
       "    </tr>\n",
       "    <tr>\n",
       "      <th>date</th>\n",
       "      <th></th>\n",
       "      <th></th>\n",
       "      <th></th>\n",
       "      <th></th>\n",
       "      <th></th>\n",
       "      <th></th>\n",
       "      <th></th>\n",
       "    </tr>\n",
       "  </thead>\n",
       "  <tbody>\n",
       "    <tr>\n",
       "      <th>2013-02-08</th>\n",
       "      <td>67.7142</td>\n",
       "      <td>68.4014</td>\n",
       "      <td>66.8928</td>\n",
       "      <td>67.8542</td>\n",
       "      <td>158168416</td>\n",
       "      <td>AAPL</td>\n",
       "      <td>NaN</td>\n",
       "    </tr>\n",
       "    <tr>\n",
       "      <th>2013-02-11</th>\n",
       "      <td>68.0714</td>\n",
       "      <td>69.2771</td>\n",
       "      <td>67.6071</td>\n",
       "      <td>68.5614</td>\n",
       "      <td>129029425</td>\n",
       "      <td>AAPL</td>\n",
       "      <td>1.042235</td>\n",
       "    </tr>\n",
       "    <tr>\n",
       "      <th>2013-02-12</th>\n",
       "      <td>68.5014</td>\n",
       "      <td>68.9114</td>\n",
       "      <td>66.8205</td>\n",
       "      <td>66.8428</td>\n",
       "      <td>151829363</td>\n",
       "      <td>AAPL</td>\n",
       "      <td>-2.506658</td>\n",
       "    </tr>\n",
       "    <tr>\n",
       "      <th>2013-02-13</th>\n",
       "      <td>66.7442</td>\n",
       "      <td>67.6628</td>\n",
       "      <td>66.1742</td>\n",
       "      <td>66.7156</td>\n",
       "      <td>118721995</td>\n",
       "      <td>AAPL</td>\n",
       "      <td>-0.190297</td>\n",
       "    </tr>\n",
       "  </tbody>\n",
       "</table>\n",
       "</div>"
      ],
      "text/plain": [
       "               open     high      low    close     volume  Name  \\\n",
       "date                                                              \n",
       "2013-02-08  67.7142  68.4014  66.8928  67.8542  158168416  AAPL   \n",
       "2013-02-11  68.0714  69.2771  67.6071  68.5614  129029425  AAPL   \n",
       "2013-02-12  68.5014  68.9114  66.8205  66.8428  151829363  AAPL   \n",
       "2013-02-13  66.7442  67.6628  66.1742  66.7156  118721995  AAPL   \n",
       "\n",
       "            Daily return (%)  \n",
       "date                          \n",
       "2013-02-08               NaN  \n",
       "2013-02-11          1.042235  \n",
       "2013-02-12         -2.506658  \n",
       "2013-02-13         -0.190297  "
      ]
     },
     "execution_count": 15,
     "metadata": {},
     "output_type": "execute_result"
    }
   ],
   "source": [
    "Apple.head(4)"
   ]
  },
  {
   "cell_type": "code",
   "execution_count": 19,
   "id": "ed92cb12-3a12-40bb-b172-0e87f6627ddd",
   "metadata": {},
   "outputs": [],
   "source": [
    "# Apple.resample?"
   ]
  },
  {
   "cell_type": "code",
   "execution_count": 20,
   "id": "e4a043bb-a035-4ecc-bd14-43e28bd39e5d",
   "metadata": {},
   "outputs": [
    {
     "data": {
      "text/plain": [
       "date\n",
       "2013-02-28     65.306264\n",
       "2013-03-31     63.120110\n",
       "2013-04-30     59.966432\n",
       "2013-05-31     63.778927\n",
       "2013-06-30     60.791120\n",
       "                 ...    \n",
       "2017-10-31    157.817273\n",
       "2017-11-30    172.406190\n",
       "2017-12-31    171.891500\n",
       "2018-01-31    174.005238\n",
       "2018-02-28    161.468000\n",
       "Freq: M, Name: close, Length: 61, dtype: float64"
      ]
     },
     "execution_count": 20,
     "metadata": {},
     "output_type": "execute_result"
    }
   ],
   "source": [
    "Apple['close'].resample('M').mean() "
   ]
  },
  {
   "cell_type": "code",
   "execution_count": 21,
   "id": "904f74a0-45db-4b9f-95c4-213439f6e039",
   "metadata": {},
   "outputs": [
    {
     "data": {
      "text/plain": [
       "<Axes: xlabel='date'>"
      ]
     },
     "execution_count": 21,
     "metadata": {},
     "output_type": "execute_result"
    },
    {
     "data": {
      "image/png": "[encoded data removed]",
      "text/plain": [
       "<Figure size 640x480 with 1 Axes>"
      ]
     },
     "metadata": {},
     "output_type": "display_data"
    }
   ],
   "source": [
    "Apple['close'].resample('M').mean().plot()"
   ]
  },
  {
   "cell_type": "code",
   "execution_count": 22,
   "id": "9cc7d5af-2ac4-4a2a-a8d9-a25e654c1353",
   "metadata": {},
   "outputs": [
    {
     "data": {
      "text/plain": [
       "<Axes: xlabel='date'>"
      ]
     },
     "execution_count": 22,
     "metadata": {},
     "output_type": "execute_result"
    },
    {
     "data": {
      "image/png": "[encoded data removed]",
      "text/plain": [
       "<Figure size 640x480 with 1 Axes>"
      ]
     },
     "metadata": {},
     "output_type": "display_data"
    }
   ],
   "source": [
    "Apple['close'].resample('Y').mean().plot()"
   ]
  },
  {
   "cell_type": "code",
   "execution_count": 23,
   "id": "bca1087c-a992-481d-b6fb-0013a9d55e38",
   "metadata": {},
   "outputs": [
    {
     "data": {
      "text/plain": [
       "<Axes: xlabel='date'>"
      ]
     },
     "execution_count": 23,
     "metadata": {},
     "output_type": "execute_result"
    },
    {
     "data": {
      "image/png": "[encoded data removed]",
      "text/plain": [
       "<Figure size 640x480 with 1 Axes>"
      ]
     },
     "metadata": {},
     "output_type": "display_data"
    }
   ],
   "source": [
    "Apple['close'].resample('Q').mean().plot()"
   ]
  },
  {
   "cell_type": "code",
   "execution_count": null,
   "id": "a56e85f9-acf8-4158-96d4-f9fd24894327",
   "metadata": {},
   "outputs": [],
   "source": []
  },
  {
   "cell_type": "code",
   "execution_count": null,
   "id": "d4f599cc-56ac-4a93-b3bf-fbe2b17f9934",
   "metadata": {},
   "outputs": [],
   "source": []
  },
  {
   "cell_type": "code",
   "execution_count": null,
   "id": "0398327d-0daf-4895-9b40-3ffac653f121",
   "metadata": {},
   "outputs": [],
   "source": []
  },
  {
   "cell_type": "code",
   "execution_count": null,
   "id": "b6ed9d39-898a-4188-8d8b-a34a20d22a50",
   "metadata": {},
   "outputs": [],
   "source": []
  },
  {
   "cell_type": "code",
   "execution_count": null,
   "id": "b6310ea2-21f4-4145-8b70-91d671ee0f2a",
   "metadata": {},
   "outputs": [],
   "source": []
  }
 ],
 "metadata": {
  "kernelspec": {
   "display_name": "Python 3 (ipykernel)",
   "language": "python",
   "name": "python3"
  },
  "language_info": {
   "codemirror_mode": {
    "name": "ipython",
    "version": 3
   },
   "file_extension": ".py",
   "mimetype": "text/x-python",
   "name": "python",
   "nbconvert_exporter": "python",
   "pygments_lexer": "ipython3",
   "version": "3.11.7"
  }
 },
 "nbformat": 4,
 "nbformat_minor": 5
}
